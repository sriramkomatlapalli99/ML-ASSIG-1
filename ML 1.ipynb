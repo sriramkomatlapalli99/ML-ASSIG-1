{
 "cells": [
  {
   "cell_type": "code",
   "execution_count": 2,
   "id": "85c84150",
   "metadata": {},
   "outputs": [
    {
     "name": "stdout",
     "output_type": "stream",
     "text": [
      "[19, 19, 20, 22, 24, 24, 24, 25, 25, 26]\n",
      "Minimum age mong them is 19\n",
      "Maximum age among them is 26\n",
      "After adding the ages [19, 19, 20, 22, 24, 24, 24, 25, 25, 26, 19, 26]\n",
      "Median: 24.0\n",
      "Average of the ages 22.75\n",
      "Range between them is 7\n"
     ]
    }
   ],
   "source": [
    "import statistics\n",
    "ages=[19,22,19,24,20,25,26,24,25,24]\n",
    "ages.sort()\n",
    "print(ages)\n",
    "\n",
    "#finding te minimum age\n",
    "print(\"Minimum age mong them is\",min(ages))\n",
    "\n",
    "#finding the amximum ages\n",
    "print(\"Maximum age among them is\",max(ages))\n",
    "\n",
    "#Adding the minimum age and maximum age again to the list\n",
    "ages.append(min(ages))\n",
    "ages.append(max(ages))\n",
    "print(\"After adding the ages\",ages)\n",
    "\n",
    "#finding the median of the ages\n",
    "mdn_age = statistics.median(ages)\n",
    "print (\"Median:\", mdn_age)\n",
    "\n",
    "#finding the average of the ages\n",
    "average=sum(ages)/len(ages)\n",
    "print(\"Average of the ages\",average)\n",
    "\n",
    "#fimding the range between max and min\n",
    "range=max(ages)-min(ages)\n",
    "print(\"Range between them is\",range)"
   ]
  },
  {
   "cell_type": "code",
   "execution_count": 4,
   "id": "533812c6",
   "metadata": {},
   "outputs": [
    {
     "name": "stdout",
     "output_type": "stream",
     "text": [
      "dog dictionary {'name': 'Bunny', 'color': 'white', 'breed': 'husky', 'legs': '4', 'age': '6'}\n",
      "student dictionary= {'first_name': 'sri ram', 'last_name': 'krishna', 'Gender': 'male', 'age': '22', 'marital_status': 'single', 'skills': ['player'], 'country': 'India', 'City': 'Tanuku', 'Adress': 'kaldhari'}\n",
      "length of student= 9\n",
      "skill of te student= ['player']\n",
      "type of the student <class 'list'>\n",
      "Keys of dog dictionary dict_keys(['name', 'color', 'breed', 'legs', 'age'])\n",
      "values of dog dictioanry dict_values(['Bunny', 'white', 'husky', '4', '6'])\n",
      "keys of student dictionary dict_keys(['first_name', 'last_name', 'Gender', 'age', 'marital_status', 'skills', 'country', 'City', 'Adress'])\n",
      "values of student dictionary dict_values(['sri ram', 'krishna', 'male', '22', 'single', ['player', 'playing', 'coding'], 'India', 'Tanuku', 'kaldhari'])\n"
     ]
    }
   ],
   "source": [
    "dog={\"\"}\n",
    "dog = {'name':'Bunny','color':'white','breed':'husky','legs':'4','age':'6'}\n",
    "\n",
    "#printing the dictionary of the dog\n",
    "print(\"dog dictionary\",dog)\n",
    "student ={'first_name':'sri ram','last_name':'krishna','Gender':'male','age':'22','marital_status':'single','skills':['player'],'country':'India','City':'Tanuku','Adress':'kaldhari'}\n",
    "#printing the dictionary of the student\n",
    "print(\"student dictionary=\",student)\n",
    "\n",
    "#printing the lenght of the student\n",
    "print(\"length of student=\",len(student))\n",
    "\n",
    "#printig the student skills\n",
    "print(\"skill of te student=\",student['skills'])\n",
    "\n",
    "#printing the type of the skills that student have\n",
    "print(\"type of the student\",type(student['skills']))\n",
    "\n",
    "#adding more skills\n",
    "student['skills'].append(\"playing\")\n",
    "student['skills'].append(\"coding\")\n",
    "\n",
    "#printing the key of the dictioanry of the dog\n",
    "print(\"Keys of dog dictionary\",dog.keys())\n",
    "\n",
    "#printig the values of the dictioanry of the dog\n",
    "print(\"values of dog dictioanry\",dog.values())\n",
    "\n",
    "#printing the key of the dictioanry of the student\n",
    "print(\"keys of student dictionary\",student.keys())\n",
    "\n",
    "#printing the values of the dictioanry of the student\n",
    "print(\"values of student dictionary\",student.values())\n",
    "\n"
   ]
  },
  {
   "cell_type": "code",
   "execution_count": 111,
   "id": "31e24d0c",
   "metadata": {},
   "outputs": [
    {
     "name": "stdout",
     "output_type": "stream",
     "text": [
      "My siblings are ('Chinni', 'Bhargavi', 'Harika', 'Hema', 'Gowtham', 'Vasu')\n",
      "Total No of Siblings are 6\n",
      "My family members are ('Chinni', 'Bhargavi', 'Harika', 'Hema', 'Gowtham', 'Vasu', 'Pullarao', 'Aruna')\n"
     ]
    }
   ],
   "source": [
    "sisters=('Chinni','Bhargavi','Harika')\n",
    "Brothers=('Hema','Gowtham','Vasu')\n",
    "siblings=sisters + Brothers\n",
    "\n",
    "#printing the details of siblings\n",
    "print(\"My siblings are\",siblings)\n",
    "\n",
    "#printing the count of siblings\n",
    "print(\"Total No of Siblings are\",len(siblings))\n",
    "family_members = siblings + ('Pullarao','Aruna')\n",
    "\n",
    "#printing family members details\n",
    "print(\"My family members are\",family_members)\n"
   ]
  },
  {
   "cell_type": "code",
   "execution_count": 122,
   "id": "f9837b72",
   "metadata": {},
   "outputs": [
    {
     "name": "stdout",
     "output_type": "stream",
     "text": [
      " No of comapnies 7\n",
      "comapanies= {'Apple', 'Amazon', 'Oracle', 'Microsoft', 'IBM', 'Google', 'facebook', 'Twitter'}\n",
      "After adding companies= {'Oracle', 'Microsoft', 'TCS', 'Twitter', 'Apple', 'Amazon', 'Virtusa', 'Infosys', 'IBM', 'Google', 'facebook'}\n",
      "After removing TCS {'Oracle', 'Microsoft', 'Twitter', 'Apple', 'Amazon', 'Virtusa', 'Infosys', 'IBM', 'Google', 'facebook'}\n",
      "After discarding facebook {'Oracle', 'Microsoft', 'Twitter', 'Apple', 'Amazon', 'Virtusa', 'Infosys', 'IBM', 'Google'}\n",
      "A and B is {19, 20, 22, 24, 25, 26, 27, 28}\n",
      "A intersection B is {19, 20, 22, 24, 25, 26}\n",
      "IS A subset of B True\n",
      "Are A and B are disjoint Sets False\n",
      " symmetric difference between them is {27, 28}\n",
      "set()\n",
      "set()\n",
      "set is {19, 22, 24, 25, 26}\n",
      "length of the age of set 5\n",
      "length of the age 8\n"
     ]
    }
   ],
   "source": [
    "it_companies={'facebook','Google','Microsoft','Apple','IBM','Oracle','Amazon'}\n",
    "A={19,22,24,20,25,26}\n",
    "B={19,22,20,25,26,24,28,27}\n",
    "age=[22,19,24,25,26,24,25,24]\n",
    "\n",
    "#printing how amny comapanies are there\n",
    "print(\" No of comapnies\",len(it_companies))\n",
    "\n",
    "#Adding twitter to the companies\n",
    "it_companies.add('Twitter')\n",
    "\n",
    "#printing the present list\n",
    "print(\"comapanies=\",it_companies)\n",
    "\n",
    "#Adding some of the comapanies\n",
    "it_companies.update({'Infosys','TCS','Virtusa'})\n",
    "print(\"After adding companies=\",it_companies)\n",
    "\n",
    "#usage of remove function\n",
    "it_companies.remove('TCS')\n",
    "print(\"After removing TCS\",it_companies)\n",
    "\n",
    "#usage of discard\n",
    "it_companies.discard('facebook')\n",
    "print(\"After discarding facebook\",it_companies)\n",
    "\n",
    "#finding a and b\n",
    "print(\"A and B is\",A.union(B))\n",
    "\n",
    "#finding a intersection b\n",
    "print(\"A intersection B is\",A.intersection(B))\n",
    "\n",
    "#finding is A subset of B\n",
    "print(\"IS A subset of B\",A.issubset(B))\n",
    "\n",
    "#Finding A an dB are disjoint sets\n",
    "print(\"Are A and B are disjoint Sets\",A.isdisjoint(B))\n",
    "\n",
    "#Finding symmetric difference between and B \n",
    "print(\" symmetric difference between them is\",A.symmetric_difference(B))\n",
    "\n",
    "#deletion of set A\n",
    "A.clear()\n",
    "print(A)\n",
    "\n",
    "#deletion of set B\n",
    "B.clear()\n",
    "print(B)\n",
    "\n",
    "#converting ages to set\n",
    "print(\"set is\",set(age))\n",
    "print(\"length of the age of set\",len(set(age)))\n",
    "print(\"length of the age\",len(age))"
   ]
  },
  {
   "cell_type": "code",
   "execution_count": 114,
   "id": "25782f76",
   "metadata": {},
   "outputs": [
    {
     "name": "stdout",
     "output_type": "stream",
     "text": [
      "enter r30\n",
      "Area of circle is 2826.0\n",
      "Circumference of circle is 188.4\n"
     ]
    }
   ],
   "source": [
    "r=int(input(\"enter r\"))\n",
    "_area_of_circle=3.14*r*r \n",
    "\n",
    "#printimg area of circle\n",
    "print(\"Area of circle is\",_area_of_circle)\n",
    "\n",
    "#printing the circumference of te circle\n",
    "_circumference_of_circle =2*3.14*r\n",
    "print(\"Circumference of circle is\",_circumference_of_circle)\n"
   ]
  },
  {
   "cell_type": "code",
   "execution_count": 118,
   "id": "171cb5bd",
   "metadata": {},
   "outputs": [
    {
     "name": "stdout",
     "output_type": "stream",
     "text": [
      "Words after splitting are ['I', 'am', 'a', 'teacher', 'and', 'I', 'love', 'to', 'inspirre', 'and', 'teach', 'people']\n",
      "Unique words ['am', 'teach', 'teacher', 'inspirre', 'love', 'to', 'I', 'people', 'and', 'a']\n",
      "length of unique words 10\n"
     ]
    }
   ],
   "source": [
    "a=\"I am a teacher and I love to inspirre and teach people\"\n",
    "#splitting the sentence into the words\n",
    "print(\"Words after splitting are\",a.split())\n",
    "\n",
    "#Finding the unique words\n",
    "unique_words = list(set(a.split()))\n",
    "print(\"Unique words\",unique_words)\n",
    "\n",
    "#length of the unique words\n",
    "print(\"length of unique words\",len(unique_words))"
   ]
  },
  {
   "cell_type": "code",
   "execution_count": 95,
   "id": "30858227",
   "metadata": {},
   "outputs": [
    {
     "name": "stdout",
     "output_type": "stream",
     "text": [
      "Name\t Age\tCountry\tCity\t\n",
      "Asabeneh 250\tFinland\tHelsinki\t\n"
     ]
    }
   ],
   "source": [
    "a=\"Name\\t Age\\tCountry\\tCity\\t\"\n",
    "b=\"Asabeneh 250\\tFinland\\tHelsinki\\t\"\n",
    "print(a)\n",
    "print(b)"
   ]
  },
  {
   "cell_type": "code",
   "execution_count": 10,
   "id": "9ecd4120",
   "metadata": {},
   "outputs": [
    {
     "name": "stdout",
     "output_type": "stream",
     "text": [
      "\"The area of circle with radius 10 is 314 meters square\"\n"
     ]
    }
   ],
   "source": [
    "radius = 10\n",
    "area = 3.14*radius**2\n",
    "print(f'\"The area of circle with radius {radius} is {int(area)} meters square\"')"
   ]
  },
  {
   "cell_type": "code",
   "execution_count": 16,
   "id": "d2b1ff36",
   "metadata": {},
   "outputs": [
    {
     "name": "stdout",
     "output_type": "stream",
     "text": [
      "3\n",
      "150\n",
      "160\n",
      "170\n",
      "[68.03, 72.56, 77.1]\n"
     ]
    }
   ],
   "source": [
    "n=int(input())\n",
    "lbs=[]\n",
    "kgs=[]\n",
    "while(n>0):\n",
    "    n=n-1\n",
    "    x=float(input())\n",
    "    lbs.append(x)\n",
    "    kgs.append(round(x/2.205,2)) \n",
    "print(kgs)"
   ]
  },
  {
   "cell_type": "code",
   "execution_count": null,
   "id": "fc83947e",
   "metadata": {},
   "outputs": [],
   "source": []
  },
  {
   "cell_type": "code",
   "execution_count": null,
   "id": "f6ac7311",
   "metadata": {},
   "outputs": [],
   "source": []
  }
 ],
 "metadata": {
  "kernelspec": {
   "display_name": "Python 3 (ipykernel)",
   "language": "python",
   "name": "python3"
  },
  "language_info": {
   "codemirror_mode": {
    "name": "ipython",
    "version": 3
   },
   "file_extension": ".py",
   "mimetype": "text/x-python",
   "name": "python",
   "nbconvert_exporter": "python",
   "pygments_lexer": "ipython3",
   "version": "3.9.13"
  }
 },
 "nbformat": 4,
 "nbformat_minor": 5
}
